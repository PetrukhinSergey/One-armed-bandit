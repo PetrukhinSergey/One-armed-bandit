{
  "nbformat": 4,
  "nbformat_minor": 0,
  "metadata": {
    "colab": {
      "provenance": [],
      "authorship_tag": "ABX9TyMTEKo1YAg/CrodT1/KaUf5"
    },
    "kernelspec": {
      "name": "python3",
      "display_name": "Python 3"
    },
    "language_info": {
      "name": "python"
    }
  },
  "cells": [
    {
      "cell_type": "markdown",
      "source": [
        "Смоделировать игру против лотерейного автомата типа “777”. Игрок платит 1 руб., после чего выпадает случайное целое число, равномерно распределенное от 0 до 999. При некоторых значениях числа игрок получает выигрыш.\n",
        "\n",
        "777: 200 руб.   \n",
        "999: 100 руб.   \n",
        "555: 50 руб.   \n",
        "333: 15 руб.   \n",
        "111: 10 руб.   \n",
        "*77: 5 руб.   \n",
        "**7: 3 руб.   \n",
        "*00: 2 руб.   \n",
        "**0: 1 руб.\n",
        "\n",
        "Вопросы:\n",
        "\n",
        "Выгодна ли игра игроку?\n",
        "Сколько в среднем приобретает или теряет игрок за одну игру?   \n",
        "\n",
        "**Дополнительное задание повышенной сложности. **   \n",
        "Теоретически рассчитать средний выигрыш (проигрыш) и сравнить с результатами моделирования"
      ],
      "metadata": {
        "id": "gWRr5fx0O4bI"
      }
    },
    {
      "cell_type": "code",
      "execution_count": null,
      "metadata": {
        "id": "ZaSqSrQGOl2c"
      },
      "outputs": [],
      "source": [
        "import numpy as np\n",
        "from random import randint"
      ]
    },
    {
      "cell_type": "code",
      "source": [
        "def bandito(combi):\n",
        "    dic = {\n",
        "    777: 200,\n",
        "    999: 100,\n",
        "    555: 50,\n",
        "    333: 15, \n",
        "    111: 10\n",
        "}\n",
        "\n",
        "    if combi in dic:\n",
        "        return dic[combi]\n",
        "    elif combi % 100 == 77:\n",
        "        return 5\n",
        "    elif combi % 10 == 7:\n",
        "        return 3\n",
        "    elif combi % 100 == 0:\n",
        "        return 2\n",
        "    elif combi % 10 == 0:\n",
        "        return 1"
      ],
      "metadata": {
        "id": "M5rOUBD8PMQB"
      },
      "execution_count": null,
      "outputs": []
    },
    {
      "cell_type": "code",
      "source": [
        "trials = int(input('Введите количество попыток: '))\n",
        "win = 0\n",
        "loss = 0\n",
        "win_combi = []\n",
        "\n",
        "for x in range(trials):\n",
        "    combi = np.random.randint(0, 999)\n",
        "    loss += 1\n",
        "    combi_ = bandito(combi)\n",
        "\n",
        "    if combi_:\n",
        "        win += combi_\n",
        "        win_combi.append(combi)\n",
        "\n",
        "monte_carlo = len(win_combi)/trials\n",
        "\n",
        "print('Выигрышные комбинации:', win_combi)\n",
        "print('Выигрыш составил: ',win,'руб.')\n",
        "print('Проигрыш составил: ',loss, 'руб.')\n",
        "print('Сальдо:', win-loss, 'руб.')\n",
        "print('Средний выхлоп от одной игры: ', round((win-loss)/trials,2), 'руб.')\n",
        "print(f'Вероятность выигрыша: {monte_carlo :.2%}')\n",
        "\n"
      ],
      "metadata": {
        "colab": {
          "base_uri": "https://localhost:8080/"
        },
        "id": "DuBPxUs4RBVc",
        "outputId": "382b856e-e595-4222-ce87-7db69393f082"
      },
      "execution_count": null,
      "outputs": [
        {
          "output_type": "stream",
          "name": "stdout",
          "text": [
            "Введите количество попыток: 15\n",
            "Выигрышные комбинации: [990, 497, 857, 957]\n",
            "Выигрыш составил:  10 руб.\n",
            "Проигрыш составил:  15 руб.\n",
            "Сальдо: -5 руб.\n",
            "Средний выхлоп от одной игры:  -0.33 руб.\n",
            "Вероятность выигрыша: 26.67%\n"
          ]
        }
      ]
    }
  ]
}